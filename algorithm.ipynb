{
 "cells": [
  {
   "cell_type": "markdown",
   "metadata": {},
   "source": [
    "# Genetic algorithm for solving the travelling salesman problem (TSP)"
   ]
  },
  {
   "cell_type": "markdown",
   "metadata": {},
   "source": [
    "The problem asks the following question: _\"Given a list of cities and the distances between each pair of cities, what is the shortest possible route that visits each city and returns to the origin city?\"_\n",
    "\n",
    "---\n",
    "\n",
    "* paths are the `population`\n",
    "\n",
    "* total distance is the `fitness`\n",
    "\n",
    "fitness  \n",
    "crossover  \n",
    "mutate  \n",
    "create next generation  \n",
    "draw map  \n"
   ]
  },
  {
   "cell_type": "code",
   "execution_count": 1,
   "metadata": {},
   "outputs": [],
   "source": [
    "import numpy as np\n",
    "import random\n",
    "import math\n",
    "import matplotlib.pyplot as plt\n",
    "import copy\n"
   ]
  },
  {
   "cell_type": "markdown",
   "metadata": {},
   "source": [
    "## Constants:"
   ]
  },
  {
   "cell_type": "code",
   "execution_count": 40,
   "metadata": {},
   "outputs": [],
   "source": [
    "population_size = 1000\n",
    "crossover_chance = 0.05\n",
    "mutation_chance = 0.05\n"
   ]
  },
  {
   "cell_type": "markdown",
   "metadata": {},
   "source": [
    "## Logic:"
   ]
  },
  {
   "cell_type": "code",
   "execution_count": 2,
   "metadata": {},
   "outputs": [],
   "source": [
    "class Field:\n",
    "    \n",
    "    def __init__(self, grid_size=100, cities=4):\n",
    "        self.grid_size = grid_size\n",
    "        self.cities = cities\n",
    "        self.field = self.create()\n",
    "        \n",
    "        if cities < 3:\n",
    "            self.cities = 3\n",
    "        else:\n",
    "            self.cities = cities\n",
    "            \n",
    "        self.field = self.create()\n",
    "    \n",
    "    def create(self):\n",
    "        field = [random.sample(range(self.grid_size), 2) for x in range(self.cities)]\n",
    "        return field\n",
    "\n",
    "    def draw(self):\n",
    "        plt.figure(figsize=(20, 10))\n",
    "        plt.scatter(*zip(*self.field), zorder=1)"
   ]
  },
  {
   "cell_type": "code",
   "execution_count": 15,
   "metadata": {},
   "outputs": [
    {
     "name": "stdout",
     "output_type": "stream",
     "text": [
      "OLDPOP  [[[[39, 150], [89, 186], [95, 108], [64, 99], [196, 26], [115, 43], [149, 10], [104, 92], [57, 126], [93, 169], [39, 150]], 717.9793704996033], [[[95, 108], [57, 126], [39, 150], [196, 26], [149, 10], [64, 99], [115, 43], [104, 92], [89, 186], [93, 169], [95, 108]], 744.4767519373654], [[[57, 126], [39, 150], [93, 169], [64, 99], [196, 26], [149, 10], [95, 108], [104, 92], [89, 186], [115, 43], [57, 126]], 835.5453840597072], [[[95, 108], [64, 99], [89, 186], [93, 169], [39, 150], [149, 10], [104, 92], [57, 126], [115, 43], [196, 26], [95, 108]], 841.2176680701557], [[[95, 108], [93, 169], [149, 10], [196, 26], [57, 126], [104, 92], [39, 150], [89, 186], [64, 99], [115, 43], [95, 108]], 891.4949577499938], [[[95, 108], [93, 169], [57, 126], [196, 26], [89, 186], [64, 99], [39, 150], [115, 43], [149, 10], [104, 92], [95, 108]], 918.6657345479898], [[[104, 92], [64, 99], [115, 43], [93, 169], [149, 10], [95, 108], [196, 26], [57, 126], [89, 186], [39, 150], [104, 92]], 1042.7797456774845], [[[64, 99], [149, 10], [89, 186], [93, 169], [95, 108], [104, 92], [39, 150], [115, 43], [57, 126], [196, 26], [64, 99]], 1047.560649020562], [[[64, 99], [93, 169], [104, 92], [95, 108], [196, 26], [57, 126], [115, 43], [89, 186], [39, 150], [149, 10], [64, 99]], 1082.5657979994282], [[[64, 99], [57, 126], [104, 92], [39, 150], [95, 108], [149, 10], [89, 186], [196, 26], [93, 169], [115, 43], [64, 99]], 1113.2183433482426]] \n",
      "\n",
      "NEWPOP  [[[[95, 108], [57, 126], [39, 150], [196, 26], [149, 10], [64, 99], [115, 43], [104, 92], [89, 186], [93, 169], [95, 108]], 744.4767519373654], [[[57, 126], [39, 150], [93, 169], [64, 99], [196, 26], [149, 10], [95, 108], [104, 92], [89, 186], [115, 43], [57, 126]], 835.5453840597072], [[[95, 108], [93, 169], [149, 10], [196, 26], [57, 126], [104, 92], [39, 150], [89, 186], [64, 99], [115, 43], [95, 108]], 891.4949577499938], [[[95, 108], [93, 169], [57, 126], [196, 26], [89, 186], [64, 99], [39, 150], [115, 43], [149, 10], [104, 92], [95, 108]], 918.6657345479898], [[[104, 92], [64, 99], [115, 43], [93, 169], [149, 10], [95, 108], [196, 26], [57, 126], [89, 186], [39, 150], [104, 92]], 1042.7797456774845]] \n",
      "\n"
     ]
    },
    {
     "ename": "TypeError",
     "evalue": "'NoneType' object is not subscriptable",
     "output_type": "error",
     "traceback": [
      "\u001b[0;31m---------------------------------------------------------------------------\u001b[0m",
      "\u001b[0;31mTypeError\u001b[0m                                 Traceback (most recent call last)",
      "\u001b[0;32m<ipython-input-15-f0ddcee9ea13>\u001b[0m in \u001b[0;36m<module>\u001b[0;34m()\u001b[0m\n\u001b[1;32m     85\u001b[0m \u001b[0mpath\u001b[0m \u001b[0;34m=\u001b[0m \u001b[0mPath\u001b[0m\u001b[0;34m(\u001b[0m\u001b[0;34m)\u001b[0m\u001b[0;34m\u001b[0m\u001b[0m\n\u001b[1;32m     86\u001b[0m \u001b[0;34m\u001b[0m\u001b[0m\n\u001b[0;32m---> 87\u001b[0;31m \u001b[0mpath\u001b[0m\u001b[0;34m.\u001b[0m\u001b[0mevolve\u001b[0m\u001b[0;34m(\u001b[0m\u001b[0mfield\u001b[0m\u001b[0;34m)\u001b[0m\u001b[0;34m\u001b[0m\u001b[0m\n\u001b[0m",
      "\u001b[0;32m<ipython-input-15-f0ddcee9ea13>\u001b[0m in \u001b[0;36mevolve\u001b[0;34m(self, Field)\u001b[0m\n\u001b[1;32m     79\u001b[0m     \u001b[0;32mdef\u001b[0m \u001b[0mevolve\u001b[0m\u001b[0;34m(\u001b[0m\u001b[0mself\u001b[0m\u001b[0;34m,\u001b[0m \u001b[0mField\u001b[0m\u001b[0;34m)\u001b[0m\u001b[0;34m:\u001b[0m\u001b[0;34m\u001b[0m\u001b[0m\n\u001b[1;32m     80\u001b[0m         \u001b[0;32mfor\u001b[0m \u001b[0mi\u001b[0m \u001b[0;32min\u001b[0m \u001b[0mrange\u001b[0m\u001b[0;34m(\u001b[0m\u001b[0;36m120\u001b[0m\u001b[0;34m)\u001b[0m\u001b[0;34m:\u001b[0m\u001b[0;34m\u001b[0m\u001b[0m\n\u001b[0;32m---> 81\u001b[0;31m             \u001b[0mself\u001b[0m\u001b[0;34m.\u001b[0m\u001b[0mpopulation\u001b[0m\u001b[0;34m(\u001b[0m\u001b[0mself\u001b[0m\u001b[0;34m.\u001b[0m\u001b[0m_fitness_population\u001b[0m\u001b[0;34m(\u001b[0m\u001b[0mself\u001b[0m\u001b[0;34m.\u001b[0m\u001b[0m_create_population\u001b[0m\u001b[0;34m(\u001b[0m\u001b[0mField\u001b[0m\u001b[0;34m)\u001b[0m\u001b[0;34m)\u001b[0m\u001b[0;34m)\u001b[0m\u001b[0;34m\u001b[0m\u001b[0m\n\u001b[0m\u001b[1;32m     82\u001b[0m \u001b[0;34m\u001b[0m\u001b[0m\n\u001b[1;32m     83\u001b[0m \u001b[0;34m\u001b[0m\u001b[0m\n",
      "\u001b[0;32m<ipython-input-15-f0ddcee9ea13>\u001b[0m in \u001b[0;36mpopulation\u001b[0;34m(self, fitness_population)\u001b[0m\n\u001b[1;32m     40\u001b[0m \u001b[0;34m\u001b[0m\u001b[0m\n\u001b[1;32m     41\u001b[0m         \u001b[0;32mwhile\u001b[0m \u001b[0mlen\u001b[0m\u001b[0;34m(\u001b[0m\u001b[0mnew_population\u001b[0m\u001b[0;34m)\u001b[0m \u001b[0;34m<=\u001b[0m \u001b[0mlen\u001b[0m\u001b[0;34m(\u001b[0m\u001b[0mfitness_population\u001b[0m\u001b[0;34m)\u001b[0m\u001b[0;34m:\u001b[0m\u001b[0;34m\u001b[0m\u001b[0m\n\u001b[0;32m---> 42\u001b[0;31m             \u001b[0mnew_population\u001b[0m\u001b[0;34m.\u001b[0m\u001b[0mappend\u001b[0m\u001b[0;34m(\u001b[0m\u001b[0mself\u001b[0m\u001b[0;34m.\u001b[0m\u001b[0m_mutate\u001b[0m\u001b[0;34m(\u001b[0m\u001b[0mnew_population\u001b[0m\u001b[0;34m)\u001b[0m\u001b[0;34m)\u001b[0m\u001b[0;34m\u001b[0m\u001b[0m\n\u001b[0m\u001b[1;32m     43\u001b[0m \u001b[0;34m\u001b[0m\u001b[0m\n\u001b[1;32m     44\u001b[0m         \u001b[0;32mreturn\u001b[0m \u001b[0mnew_population\u001b[0m\u001b[0;34m\u001b[0m\u001b[0m\n",
      "\u001b[0;32m<ipython-input-15-f0ddcee9ea13>\u001b[0m in \u001b[0;36m_mutate\u001b[0;34m(self, fitness_population)\u001b[0m\n\u001b[1;32m     53\u001b[0m                 \u001b[0;31m# random indexes to swap two points\u001b[0m\u001b[0;34m\u001b[0m\u001b[0;34m\u001b[0m\u001b[0m\n\u001b[1;32m     54\u001b[0m                 \u001b[0ma\u001b[0m\u001b[0;34m,\u001b[0m \u001b[0mb\u001b[0m \u001b[0;34m=\u001b[0m \u001b[0mrandom\u001b[0m\u001b[0;34m.\u001b[0m\u001b[0msample\u001b[0m\u001b[0;34m(\u001b[0m\u001b[0mrange\u001b[0m\u001b[0;34m(\u001b[0m\u001b[0mmember_length\u001b[0m\u001b[0;34m)\u001b[0m\u001b[0;34m,\u001b[0m \u001b[0;36m2\u001b[0m\u001b[0;34m)\u001b[0m\u001b[0;34m\u001b[0m\u001b[0m\n\u001b[0;32m---> 55\u001b[0;31m                 \u001b[0mmember\u001b[0m\u001b[0;34m[\u001b[0m\u001b[0;36m0\u001b[0m\u001b[0;34m]\u001b[0m\u001b[0;34m[\u001b[0m\u001b[0ma\u001b[0m\u001b[0;34m]\u001b[0m\u001b[0;34m,\u001b[0m \u001b[0mmember\u001b[0m\u001b[0;34m[\u001b[0m\u001b[0;36m0\u001b[0m\u001b[0;34m]\u001b[0m\u001b[0;34m[\u001b[0m\u001b[0mb\u001b[0m\u001b[0;34m]\u001b[0m \u001b[0;34m=\u001b[0m \u001b[0mmember\u001b[0m\u001b[0;34m[\u001b[0m\u001b[0;36m0\u001b[0m\u001b[0;34m]\u001b[0m\u001b[0;34m[\u001b[0m\u001b[0mb\u001b[0m\u001b[0;34m]\u001b[0m\u001b[0;34m,\u001b[0m \u001b[0mmember\u001b[0m\u001b[0;34m[\u001b[0m\u001b[0;36m0\u001b[0m\u001b[0;34m]\u001b[0m\u001b[0;34m[\u001b[0m\u001b[0ma\u001b[0m\u001b[0;34m]\u001b[0m\u001b[0;34m\u001b[0m\u001b[0m\n\u001b[0m\u001b[1;32m     56\u001b[0m \u001b[0;34m\u001b[0m\u001b[0m\n\u001b[1;32m     57\u001b[0m \u001b[0;34m\u001b[0m\u001b[0m\n",
      "\u001b[0;31mTypeError\u001b[0m: 'NoneType' object is not subscriptable"
     ]
    }
   ],
   "source": [
    "class Path:\n",
    "    def __init__(self, max_path_length=10, mutate_chance=0.05, crossover_chance=0.2, population_size=10):\n",
    "        self.mutate_chance = mutate_chance\n",
    "        self.crossover_chance = crossover_chance\n",
    "        self.max_path_length = max_path_length\n",
    "        self.population_size = population_size\n",
    "        \n",
    "    def _create_member(self, Field):\n",
    "        member = random.sample(Field.field, len(Field.field))\n",
    "        member.append(member[0])\n",
    "\n",
    "        return member\n",
    "    \n",
    "    def _create_population(self, Field):\n",
    "        population = []\n",
    "        # plt.figure(figsize=(20, 10))\n",
    "        \n",
    "        for _ in range(self.population_size):\n",
    "            member = self._create_member(Field)\n",
    "            # plt.plot(*zip(*member), linewidth=0.2, zorder=2)\n",
    "            population.append(member)\n",
    "        \n",
    "        return population\n",
    "    \n",
    "    def population(self, fitness_population):\n",
    "        # Build probability array\n",
    "        bias_weights = list(reversed([x / len(fitness_population) for x in range(len(fitness_population))]))\n",
    "        prob = np.array(bias_weights / np.sum(bias_weights))\n",
    "\n",
    "        # Get random integers between 0 and len(prob)-1, drawn according to prob\n",
    "        sample_size = int(len(fitness_population) / 2)\n",
    "        choice_indices = np.random.choice(len(prob), size=sample_size, replace=False, p=prob)\n",
    "\n",
    "        # Get corresponding paths\n",
    "        new_population = copy.deepcopy([fitness_population[i] for i in choice_indices])\n",
    "        new_population = sorted(new_population, key=lambda member: member[1])\n",
    "        \n",
    "        print('OLDPOP ', fitness_population, '\\n')\n",
    "        print('NEWPOP ', new_population, '\\n')\n",
    "        \n",
    "        while len(new_population) <= len(fitness_population):\n",
    "            new_population.append(self._mutate(new_population))\n",
    "        \n",
    "        return new_population\n",
    "        \n",
    "    \n",
    "    def _mutate(self, fitness_population):\n",
    "        member_length = len(fitness_population[0][0])\n",
    "        \n",
    "        for member in fitness_population:\n",
    "            # member only mutates by chance defined by user\n",
    "            if random.random() < self.mutate_chance:\n",
    "                # random indexes to swap two points\n",
    "                a, b = random.sample(range(member_length), 2)\n",
    "                member[0][a], member[0][b] = member[0][b], member[0][a]\n",
    "        \n",
    "    \n",
    "    def _fitness_member(self, member):\n",
    "        # unzip member to make it compatible for distance formula\n",
    "        compatible_member = list(zip(member[0:], member[1:]))\n",
    "        \n",
    "        total_distance = 0\n",
    "        for p0, p1 in compatible_member:\n",
    "            distance = math.hypot(p1[0] - p0[0], p1[1] - p0[1])\n",
    "            total_distance += distance\n",
    "        \n",
    "        return [member, total_distance]\n",
    "    \n",
    "    def _fitness_population(self, population):\n",
    "        fitness_population = []\n",
    "        for member in population:\n",
    "            member = self._fitness_member(member)\n",
    "            fitness_population.append(member)\n",
    "        \n",
    "        fitness_population = sorted(fitness_population, key=lambda member: member[1])\n",
    "        return fitness_population\n",
    "            \n",
    "    \n",
    "    def evolve(self, Field):\n",
    "        for i in range(120):\n",
    "            self.population(self._fitness_population(self._create_population(Field)))\n",
    "\n",
    "\n",
    "field = Field(grid_size=200, cities=10)\n",
    "path = Path()\n",
    "\n",
    "path.evolve(field)"
   ]
  },
  {
   "cell_type": "code",
   "execution_count": null,
   "metadata": {},
   "outputs": [],
   "source": [
    "class Score:\n",
    "    def __init__(self, population):\n",
    "        pass\n",
    "\n",
    "# class for a tkinter application to display graph\n",
    "class App:\n",
    "    def __init__():\n",
    "        pass"
   ]
  }
 ],
 "metadata": {
  "kernelspec": {
   "display_name": "genetic-salesman",
   "language": "python",
   "name": "genetic-salesman"
  },
  "language_info": {
   "codemirror_mode": {
    "name": "ipython",
    "version": 3
   },
   "file_extension": ".py",
   "mimetype": "text/x-python",
   "name": "python",
   "nbconvert_exporter": "python",
   "pygments_lexer": "ipython3",
   "version": "3.6.3"
  }
 },
 "nbformat": 4,
 "nbformat_minor": 2
}
